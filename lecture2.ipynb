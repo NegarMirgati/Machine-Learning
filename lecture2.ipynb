{
 "cells": [
  {
   "cell_type": "code",
   "execution_count": 47,
   "metadata": {
    "collapsed": true
   },
   "outputs": [],
   "source": [
    "import pandas as pd\n",
    "import numpy as np\n",
    "import matplotlib.pyplot as plt\n"
   ]
  },
  {
   "cell_type": "code",
   "execution_count": 16,
   "metadata": {},
   "outputs": [
    {
     "name": "stdout",
     "output_type": "stream",
     "text": [
      "<class 'pandas.core.frame.DataFrame'>\n",
      "RangeIndex: 19999 entries, 0 to 19998\n",
      "Data columns (total 24 columns):\n",
      "CMPLNT_NUM           19999 non-null int64\n",
      "CMPLNT_FR_DT         19999 non-null object\n",
      "CMPLNT_FR_TM         19999 non-null object\n",
      "CMPLNT_TO_DT         16596 non-null object\n",
      "CMPLNT_TO_TM         16603 non-null object\n",
      "RPT_DT               19999 non-null object\n",
      "KY_CD                19999 non-null int64\n",
      "OFNS_DESC            19996 non-null object\n",
      "PD_CD                19985 non-null float64\n",
      "PD_DESC              19985 non-null object\n",
      "CRM_ATPT_CPTD_CD     19999 non-null object\n",
      "LAW_CAT_CD           19999 non-null object\n",
      "JURIS_DESC           19999 non-null object\n",
      "BORO_NM              19999 non-null object\n",
      "ADDR_PCT_CD          19999 non-null int64\n",
      "LOC_OF_OCCUR_DESC    16417 non-null object\n",
      "PREM_TYP_DESC        19932 non-null object\n",
      "PARKS_NM             96 non-null object\n",
      "HADEVELOPT           963 non-null object\n",
      "X_COORD_CD           19722 non-null float64\n",
      "Y_COORD_CD           19722 non-null float64\n",
      "Latitude             19722 non-null float64\n",
      "Longitude            19722 non-null float64\n",
      "Lat_Lon              19722 non-null object\n",
      "dtypes: float64(5), int64(3), object(16)\n",
      "memory usage: 3.7+ MB\n"
     ]
    }
   ],
   "source": [
    "#preprocess\n",
    "\n",
    "data = pd.read_csv('cf.csv')\n",
    "#data.head()\n",
    "#data.info()\n",
    "data.isnull().sum()\n",
    "#data.describe()\n",
    "data['KY_CD'].argmax()\n",
    "data.info()"
   ]
  },
  {
   "cell_type": "code",
   "execution_count": 18,
   "metadata": {},
   "outputs": [
    {
     "data": {
      "text/plain": [
       "<pandas.core.groupby.DataFrameGroupBy object at 0x0000025F16796CF8>"
      ]
     },
     "execution_count": 18,
     "metadata": {},
     "output_type": "execute_result"
    }
   ],
   "source": [
    "a = data.groupby('KY_CD')\n",
    "a"
   ]
  },
  {
   "cell_type": "code",
   "execution_count": 24,
   "metadata": {},
   "outputs": [
    {
     "data": {
      "text/plain": [
       "(51,)"
      ]
     },
     "execution_count": 24,
     "metadata": {},
     "output_type": "execute_result"
    }
   ],
   "source": [
    "un = data['KY_CD'].unique()\n",
    "data['KY_CD'].shape\n",
    "un.shape\n",
    "data['KY_CD'].duplicated().sum()\n",
    "ff = data['KY_CD'].drop_duplicates()\n",
    "ff.shape"
   ]
  },
  {
   "cell_type": "code",
   "execution_count": 40,
   "metadata": {},
   "outputs": [],
   "source": [
    "#visualization - histogram\n",
    "\n",
    "aaa = data['PARKS_NM'].fillna('0')\n",
    "aaa\n",
    "bbb = data['PARKS_NM'].replace(np.NaN, '2')\n",
    "bbb\n",
    "#data['PD_CD'].replace()\n",
    "data['PD_CD'].replace({338:-1, 415:-1},inplace = True)\n",
    "#data['PD_CD']\n",
    "\n",
    "#pd.value_counts(data['PD_CD'])"
   ]
  },
  {
   "cell_type": "code",
   "execution_count": 55,
   "metadata": {},
   "outputs": [
    {
     "data": {
      "image/png": "[encoded data removed]",
      "text/plain": [
       "<matplotlib.figure.Figure at 0x25f165f9d30>"
      ]
     },
     "metadata": {},
     "output_type": "display_data"
    }
   ],
   "source": [
    "plt.hist(data['KY_CD'],bins = 10, bottom = 1000)\n",
    "plt.xlabel('KY_CD')\n",
    "plt.show()"
   ]
  },
  {
   "cell_type": "code",
   "execution_count": 80,
   "metadata": {
    "scrolled": true
   },
   "outputs": [
    {
     "name": "stdout",
     "output_type": "stream",
     "text": [
      "0.506455593551\n",
      "0.526366443727\n",
      "0.00960670342701\n"
     ]
    }
   ],
   "source": [
    "#correlation\n",
    "\n",
    "from scipy.stats import pearsonr\n",
    "from scipy.stats import spearmanr\n",
    "from sklearn.datasets import load_boston\n",
    "boston = load_boston()\n",
    "boston.feature_names\n",
    "data2 = boston.data\n",
    "pdf = pd.DataFrame(boston.data, columns=boston.feature_names)\n",
    "\n",
    "p1 , p2 = pearsonr(pdf['AGE'], pdf['TAX'])\n",
    "print (p1)\n",
    "p3 , p4 = spearmanr(pdf['AGE'], pdf['TAX'])\n",
    "print (p3)\n",
    "\n",
    "pp1 , pp2 = pearsonr(data['CMPLNT_NUM'], data['KY_CD'])\n",
    "print(pp1)"
   ]
  },
  {
   "cell_type": "code",
   "execution_count": 75,
   "metadata": {
    "collapsed": true
   },
   "outputs": [],
   "source": [
    "#naive Bayes\n",
    "\n",
    "from sklearn import datasets\n",
    "import pandas as pd\n",
    "from sklearn.model_selection import  train_test_split\n",
    "\n",
    "bcd = datasets.load_breast_cancer()\n",
    "x = bcd.data\n",
    "y = bcd.target\n",
    "x_train,x_test,y_train,y_test = train_test_split(x,y,test_size=0.2,random_state = 40)"
   ]
  },
  {
   "cell_type": "code",
   "execution_count": 78,
   "metadata": {},
   "outputs": [
    {
     "name": "stdout",
     "output_type": "stream",
     "text": [
      "0.657894736842\n"
     ]
    }
   ],
   "source": [
    "#naive Bayes\n",
    "\n",
    "from sklearn.naive_bayes import GaussianNB\n",
    "from sklearn.naive_bayes import MultinomialNB\n",
    "from sklearn.naive_bayes import BernoulliNB\n",
    "#gnb = GaussianNB()\n",
    "#gnb = MultinomialNB()\n",
    "gnb = BernoulliNB()\n",
    "\n",
    "\n",
    "gnb.fit(x_train,y_train)\n",
    "y_pred = gnb.predict(x_test)\n",
    "\n",
    "print (gnb.score(x_test,y_test))"
   ]
  },
  {
   "cell_type": "code",
   "execution_count": 79,
   "metadata": {},
   "outputs": [
    {
     "name": "stdout",
     "output_type": "stream",
     "text": [
      "<class 'pandas.core.frame.DataFrame'>\n",
      "RangeIndex: 19999 entries, 0 to 19998\n",
      "Data columns (total 24 columns):\n",
      "CMPLNT_NUM           19999 non-null int64\n",
      "CMPLNT_FR_DT         19999 non-null object\n",
      "CMPLNT_FR_TM         19999 non-null object\n",
      "CMPLNT_TO_DT         16596 non-null object\n",
      "CMPLNT_TO_TM         16603 non-null object\n",
      "RPT_DT               19999 non-null object\n",
      "KY_CD                19999 non-null int64\n",
      "OFNS_DESC            19996 non-null object\n",
      "PD_CD                19985 non-null float64\n",
      "PD_DESC              19985 non-null object\n",
      "CRM_ATPT_CPTD_CD     19999 non-null object\n",
      "LAW_CAT_CD           19999 non-null object\n",
      "JURIS_DESC           19999 non-null object\n",
      "BORO_NM              19999 non-null object\n",
      "ADDR_PCT_CD          19999 non-null int64\n",
      "LOC_OF_OCCUR_DESC    16417 non-null object\n",
      "PREM_TYP_DESC        19932 non-null object\n",
      "PARKS_NM             96 non-null object\n",
      "HADEVELOPT           963 non-null object\n",
      "X_COORD_CD           19722 non-null float64\n",
      "Y_COORD_CD           19722 non-null float64\n",
      "Latitude             19722 non-null float64\n",
      "Longitude            19722 non-null float64\n",
      "Lat_Lon              19722 non-null object\n",
      "dtypes: float64(5), int64(3), object(16)\n",
      "memory usage: 3.7+ MB\n"
     ]
    }
   ],
   "source": [
    "data.info()"
   ]
  },
  {
   "cell_type": "code",
   "execution_count": null,
   "metadata": {
    "collapsed": true
   },
   "outputs": [],
   "source": []
  },
  {
   "cell_type": "code",
   "execution_count": null,
   "metadata": {
    "collapsed": true
   },
   "outputs": [],
   "source": []
  }
 ],
 "metadata": {
  "kernelspec": {
   "display_name": "Python 3",
   "language": "python",
   "name": "python3"
  },
  "language_info": {
   "codemirror_mode": {
    "name": "ipython",
    "version": 3
   },
   "file_extension": ".py",
   "mimetype": "text/x-python",
   "name": "python",
   "nbconvert_exporter": "python",
   "pygments_lexer": "ipython3",
   "version": "3.6.5"
  }
 },
 "nbformat": 4,
 "nbformat_minor": 2
}
